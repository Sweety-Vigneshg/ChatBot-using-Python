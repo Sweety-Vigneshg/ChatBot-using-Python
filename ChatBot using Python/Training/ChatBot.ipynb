{
  "nbformat": 4,
  "nbformat_minor": 0,
  "metadata": {
    "colab": {
      "provenance": []
    },
    "kernelspec": {
      "name": "python3",
      "display_name": "Python 3"
    },
    "language_info": {
      "name": "python"
    }
  },
  "cells": [
    {
      "cell_type": "markdown",
      "source": [
        "**Install NLTK**"
      ],
      "metadata": {
        "id": "EwpeXFu1Z2r3"
      }
    },
    {
      "cell_type": "code",
      "source": [
        "pip install nltk\n"
      ],
      "metadata": {
        "colab": {
          "base_uri": "https://localhost:8080/"
        },
        "id": "qBh85FscaDFw",
        "outputId": "f998f324-82a7-46ec-94b9-7ff4783affe9"
      },
      "execution_count": null,
      "outputs": [
        {
          "output_type": "stream",
          "name": "stdout",
          "text": [
            "Requirement already satisfied: nltk in /usr/local/lib/python3.10/dist-packages (3.8.1)\n",
            "Requirement already satisfied: click in /usr/local/lib/python3.10/dist-packages (from nltk) (8.1.7)\n",
            "Requirement already satisfied: joblib in /usr/local/lib/python3.10/dist-packages (from nltk) (1.3.2)\n",
            "Requirement already satisfied: regex>=2021.8.3 in /usr/local/lib/python3.10/dist-packages (from nltk) (2023.6.3)\n",
            "Requirement already satisfied: tqdm in /usr/local/lib/python3.10/dist-packages (from nltk) (4.66.1)\n"
          ]
        }
      ]
    },
    {
      "cell_type": "markdown",
      "source": [
        "**Import Libraries**"
      ],
      "metadata": {
        "id": "sgCPhPK8Z-hY"
      }
    },
    {
      "cell_type": "code",
      "source": [
        "import nltk\n",
        "from nltk.chat.util import Chat, reflections\n"
      ],
      "metadata": {
        "id": "4zLOiHaVZ8WF"
      },
      "execution_count": null,
      "outputs": []
    },
    {
      "cell_type": "markdown",
      "source": [
        "**Create a Dataset**"
      ],
      "metadata": {
        "id": "t9vcjWsjaEBK"
      }
    },
    {
      "cell_type": "code",
      "source": [
        "pairs = [\n",
        "    [\n",
        "        r\"hi|hello|hey|howdy|yo\",\n",
        "        [\"Hello!\", \"Hi there!\", \"Hey!\", \"Howdy!\", \"Yo! How can I assist you today?\"]\n",
        "    ],\n",
        "    [\n",
        "        r\"what is your name|who are you?\",\n",
        "        [\"I'm a chatbot.\", \"I'm just a chatbot created in Python.\", \"Call me ChatBot.\"]\n",
        "    ],\n",
        "    [\n",
        "        r\"how are you|how's it going|what's up?\",\n",
        "        [\"I'm just a computer program, so I don't have feelings, but I'm here to help you!\", \"I'm good, thanks for asking!\", \"Not much, just here to assist you.\"]\n",
        "    ],\n",
        "    [\n",
        "        r\"bye|goodbye|see you|adios|farewell\",\n",
        "        [\"Goodbye!\", \"See you later!\", \"Adios!\", \"Farewell!\", \"Have a great day!\"]\n",
        "    ],\n",
        "    [\n",
        "        r\"what can you do|what are your abilities|how can you help\",\n",
        "        [\"I can answer questions, provide information, and have conversations with you.\", \"I can help you with various tasks, just ask!\"]\n",
        "    ],\n",
        "    [\n",
        "        r\"tell me a joke|say something funny\",\n",
        "        [\"Why don't scientists trust atoms? Because they make up everything!\", \"I used to play piano by ear, but now I use my hands.\"]\n",
        "    ],\n",
        "    [\n",
        "        r\"how old are you|when were you created\",\n",
        "        [\"I don't have an age, but I was created by OpenAI.\", \"I'm a relatively new creation, born in the realm of algorithms.\"]\n",
        "    ],\n",
        "    [\n",
        "        r\"thanks|thank you\",\n",
        "        [\"You're welcome!\", \"No problem, happy to help!\", \"Anytime!\"]\n",
        "    ],\n",
        "    [\n",
        "        r\"how do I contact support|need help|I have a problem\",\n",
        "        [\"For support, please visit our website or contact our customer support at vickystft@gmail.com.\"]\n",
        "    ],\n",
        "    [\n",
        "        r\"tell me a fun fact|give me an interesting fact\",\n",
        "        [\"Honey never spoils. Archaeologists have even found pots of honey in ancient Egyptian tombs that are over 3,000 years old!\", \"A group of flamingos is called a 'flamboyance'.\"]\n",
        "    ],\n",
        "    [\n",
        "        r\"who is your creator|who made you\",\n",
        "        [\"I was created by a team of engineers and developers at Vignesh G.\", \"My creators are a talented group of individuals at Vignesh.\"]\n",
        "    ],\n",
        "    [\n",
        "        r\"what's your favorite color|favorite color\",\n",
        "        [\"I don't have a favorite color since I'm just a chatbot, but I can help you find information about colors!\"]\n",
        "    ],\n",
        "    [\n",
        "        r\"tell me a quote|give me an inspiring quote\",\n",
        "        [\"The only way to do great work is to love what you do. - Steve Jobs\", \"Success is not final, failure is not fatal: It is the courage to continue that counts. - Winston Churchill\"]\n",
        "    ],\n",
        "    [\n",
        "        r\"who won the last Super Bowl|Super Bowl winner\",\n",
        "        [\"I'm not sure about the most recent Super Bowl winner. You can check the latest sports news for that information.\"]\n",
        "    ],\n",
        "    [\n",
        "        r\"tell me a riddle|give me a riddle\",\n",
        "        [\"I'm as light as a feather, yet the strongest person can't hold me for much longer than a minute. What am I? (A breath)\", \"I am taken from a mine and shut up in a wooden case, from which I am never released, and yet I am used by almost every person. What am I? (A pencil lead)\"]\n",
        "    ],\n",
        "    [\n",
        "        r\"what's the weather like today|current weather\",\n",
        "        [\"I don't have real-time data, but you can check your local weather forecast on weather websites or apps like Weather.com or AccuWeather.\"]\n",
        "    ],\n",
        "     [\n",
        "        r\"hi|hello|hey\",\n",
        "        [\"Hello!\", \"Hi there!\", \"How can I help you today?\"]\n",
        "    ],\n",
        "    [\n",
        "        r\"what is your name|who are you?\",\n",
        "        [\"I'm a chatbot.\", \"I'm just a chatbot created in Python.\"]\n",
        "    ],\n",
        "    [\n",
        "        r\"how are you|how's it going?\",\n",
        "        [\"I'm just a computer program, so I don't have feelings, but I'm here to help you!\"]\n",
        "    ],\n",
        "    [\n",
        "        r\"bye|goodbye\",\n",
        "        [\"Goodbye!\", \"See you later!\", \"Have a great day!\"]\n",
        "    ],\n",
        "    [\n",
        "        r\"hi|hello|hey\",\n",
        "        [\n",
        "            \"Hello!\",\n",
        "            \"Hi there!\",\n",
        "            \"Hey!\",\n",
        "            \"Greetings!\",\n",
        "            \"Hi, how can I assist you?\",\n",
        "        ]\n",
        "    ],\n",
        "    [\n",
        "        r\"what is your name|who are you?\",\n",
        "        [\n",
        "            \"I'm a chatbot.\",\n",
        "            \"I'm just a chatbot created in Python.\",\n",
        "            \"You can call me ChatGPT.\",\n",
        "        ]\n",
        "    ],\n",
        "    [\n",
        "        r\"how are you|how's it going?\",\n",
        "        [\n",
        "            \"I'm just a computer program, so I don't have feelings, but I'm here to help you!\",\n",
        "            \"I'm doing well in terms of processing data!\",\n",
        "            \"I'm functioning as expected.\",\n",
        "        ]\n",
        "    ],\n",
        "    [\n",
        "        r\"bye|goodbye\",\n",
        "        [\n",
        "            \"Goodbye!\",\n",
        "            \"See you later!\",\n",
        "            \"Farewell!\",\n",
        "            \"Have a great day!\",\n",
        "        ]\n",
        "    ],\n",
        "    [\n",
        "        r\"(.*) your name(.*)\",\n",
        "        [\n",
        "            \"My name is ChatGPT.\",\n",
        "            \"I go by the name ChatGPT.\",\n",
        "        ]\n",
        "    ],\n",
        "    [\n",
        "        r\"(.*) help (.*)\",\n",
        "        [\n",
        "            \"Sure! How can I help you?\",\n",
        "            \"What do you need assistance with?\",\n",
        "            \"I'm here to help. What do you need?\",\n",
        "        ]\n",
        "    ],\n",
        "    [\n",
        "        r\"(.*) (weather|temperature) (.*)\",\n",
        "        [\n",
        "            \"I'm sorry, I don't have real-time information. You can check a weather website or app for that.\",\n",
        "            \"I don't have the ability to provide current weather information. Please use a weather service.\",\n",
        "        ]\n",
        "    ],\n",
        "    [\n",
        "        r\"(.*) age (.*)\",\n",
        "        [\n",
        "            \"I don't have an age. I'm just a program.\",\n",
        "            \"Age doesn't apply to me. I'm a computer program.\",\n",
        "        ]\n",
        "    ],\n",
        "    [\n",
        "        r\"(.*) (love|like) (.*)\",\n",
        "        [\n",
        "            \"I'm not capable of experiencing emotions, but I'm here to help you.\",\n",
        "            \"I don't have feelings, but I'm here to assist you.\",\n",
        "        ]\n",
        "    ],\n",
        "    [\n",
        "        r\"(.*) (created|made) (.*)\",\n",
        "        [\n",
        "            \"I was created by OpenAI using Python.\",\n",
        "            \"I'm a product of OpenAI's GPT-3.5 architecture.\",\n",
        "            \"OpenAI is responsible for my creation.\",\n",
        "        ]\n",
        "    ],\n",
        "    [\n",
        "        r\"(.*) (thanks|thank you) (.*)\",\n",
        "        [\n",
        "            \"You're welcome!\",\n",
        "            \"You're very welcome!\",\n",
        "            \"No problem! If you have more questions, feel free to ask.\",\n",
        "        ]\n",
        "    ],\n",
        "    [\n",
        "        r\"(.*)\",\n",
        "        [\n",
        "            \"I'm not sure I understand. Can you please rephrase?\",\n",
        "            \"Could you provide more context?\",\n",
        "            \"I'm sorry, I'm not sure how to respond to that.\",\n",
        "        ]\n",
        "    ],\n",
        "    [\n",
        "        r\"what is your name|who are you?\",\n",
        "        [\"I'm a chatbot.\", \"I'm just a chatbot created in Python.\"]\n",
        "    ],\n",
        "    [\n",
        "        r\"how are you|how's it going?\",\n",
        "        [\"I'm just a computer program, so I don't have feelings, but I'm here to help you!\"]\n",
        "    ],\n",
        "    [\n",
        "        r\"bye|goodbye\",\n",
        "        [\"Goodbye!\", \"See you later!\", \"Have a great day!\"]\n",
        "    ],\n",
        "    [\n",
        "        r\"help|what can you do?\",\n",
        "        [\"I can answer questions, provide information, and have general conversations with you.\"]\n",
        "    ],\n",
        "    [\n",
        "        r\"tell me a joke\",\n",
        "        [\"Why don't scientists trust atoms? Because they make up everything!\"]\n",
        "    ],\n",
        "    [\n",
        "        r\"how old are you?\",\n",
        "        [\"I don't have an age. I'm just a computer program.\"]\n",
        "    ],\n",
        "    [\n",
        "        r\"what is your favorite color?\",\n",
        "        [\"I don't have preferences for colors. I'm here to assist you.\"]\n",
        "    ],\n",
        "    [\n",
        "        r\"who created you|who is your developer?\",\n",
        "        [\"I was created by a developer using Python and NLTK.\"]\n",
        "    ],\n",
        "    [\n",
        "        r\"thanks|thank you\",\n",
        "        [\"You're welcome!\", \"No problem!\"]\n",
        "    ],\n",
        "    [\n",
        "        r\"what is the meaning of life?\",\n",
        "        [\"The meaning of life is a philosophical question. Different people have different answers.\"]\n",
        "    ],\n",
        "    [\n",
        "        r\"how do I contact support?\",\n",
        "        [\"You can contact support by visiting our website or emailing support@company.com.\"]\n",
        "    ],\n",
        "    [\n",
        "        r\"tell me about yourself\",\n",
        "        [\"I'm just a chatbot designed to answer your questions and have conversations.\"]\n",
        "    ],\n",
        "    [\n",
        "        r\"what is the weather like today?\",\n",
        "        [\"I'm sorry, I don't have access to real-time weather information. You can check a weather website or app for that.\"]\n",
        "    ],\n",
        "    [\n",
        "        r\"tell me a fun fact\",\n",
        "        [\"Honey never spoils. Archaeologists have found pots of honey in ancient Egyptian tombs that are over 3,000 years old and still perfectly edible!\"]\n",
        "    ],\n",
        "    [\n",
        "        r\"what's the time?\",\n",
        "        [\"I don't have access to real-time information like the current time.\"]\n",
        "    ],\n",
        "    [\n",
        "        r\"who won the last Super Bowl?\",\n",
        "        [\"I'm not up-to-date with sports results. You can search online for the latest Super Bowl winner.\"]\n",
        "    ],\n",
        "    [\n",
        "        r\"what's your favorite book?\",\n",
        "        [\"I don't have preferences for books. What's your favorite book?\"]\n",
        "    ],\n",
        "    [\n",
        "        r\"tell me a riddle\",\n",
        "        [\"I'm terrible at solving riddles, but here's one for you: I'm tall when I'm young and short when I'm old. What am I?\"]\n",
        "    ],\n",
        "]"
      ],
      "metadata": {
        "id": "XpXTAFvBcTgT"
      },
      "execution_count": 3,
      "outputs": []
    },
    {
      "cell_type": "markdown",
      "source": [
        "**Create a ChatBot**"
      ],
      "metadata": {
        "id": "-34BkjARa20y"
      }
    },
    {
      "cell_type": "code",
      "source": [
        "chatbot = Chat(pairs, reflections)\n"
      ],
      "metadata": {
        "id": "gkjumoCda4nW"
      },
      "execution_count": 4,
      "outputs": []
    },
    {
      "cell_type": "markdown",
      "source": [
        "**Define a Function for Interaction**"
      ],
      "metadata": {
        "id": "MwXGhVGMa_GQ"
      }
    },
    {
      "cell_type": "code",
      "source": [
        "def chat_with_bot():\n",
        "    print(\"Hello! I'm your chatbot. Type 'exit' to end the conversation.\")\n",
        "    while True:\n",
        "        user_input = input(\"You: \")\n",
        "        if user_input.lower() == \"exit\":\n",
        "            print(\"Chatbot: Goodbye!\")\n",
        "            break\n",
        "        response = chatbot.respond(user_input)\n",
        "        print(\"Chatbot:\", response)\n"
      ],
      "metadata": {
        "id": "xswE3-AcbA1c"
      },
      "execution_count": 5,
      "outputs": []
    },
    {
      "cell_type": "markdown",
      "source": [
        "**Start the Conversation**"
      ],
      "metadata": {
        "id": "jCf2z2OBbIwc"
      }
    },
    {
      "cell_type": "code",
      "source": [
        "if __name__ == \"__main__\":\n",
        "    chat_with_bot()\n"
      ],
      "metadata": {
        "colab": {
          "base_uri": "https://localhost:8080/"
        },
        "id": "25xRKl1mbKgr",
        "outputId": "92814a20-39d4-4973-afeb-0ec3810bfdce"
      },
      "execution_count": 6,
      "outputs": [
        {
          "output_type": "stream",
          "name": "stdout",
          "text": [
            "Hello! I'm your chatbot. Type 'exit' to end the conversation.\n",
            "You: hi\n",
            "Chatbot: Hello!\n",
            "You: hello\n",
            "Chatbot: Hi there!\n",
            "You: welcom\n",
            "Chatbot: Could you provide more context?\n",
            "You: who made you\n",
            "Chatbot: My creators are a talented group of individuals at Vignesh.\n",
            "You: what is your name\n",
            "Chatbot: I'm a chatbot.\n",
            "You: exit\n",
            "Chatbot: Goodbye!\n"
          ]
        }
      ]
    }
  ]
}